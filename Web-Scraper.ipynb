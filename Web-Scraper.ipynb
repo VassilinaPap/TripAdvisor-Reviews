{
 "cells": [
  {
   "cell_type": "markdown",
   "metadata": {},
   "source": [
    "# Web Scraper"
   ]
  },
  {
   "cell_type": "code",
   "execution_count": 1,
   "metadata": {
    "ExecuteTime": {
     "end_time": "2022-01-14T19:30:18.535154Z",
     "start_time": "2022-01-14T19:30:13.989971Z"
    }
   },
   "outputs": [],
   "source": [
    "# Imports\n",
    "import requests\n",
    "import numpy as np\n",
    "import pandas as pd\n",
    "from bs4 import BeautifulSoup\n",
    "import re"
   ]
  },
  {
   "cell_type": "code",
   "execution_count": null,
   "metadata": {
    "ExecuteTime": {
     "start_time": "2022-01-14T21:16:49.015Z"
    }
   },
   "outputs": [],
   "source": [
    "url = 'https://www.tripadvisor.in/Hotel_Review-g189400-d233054-Reviews-Dorian_Inn_Hotel-Athens_Attica.html'\n",
    "splt_url = [x+'Reviews' for x in url.split('Reviews') if x]\n",
    "splt_url[0] = splt_url[0] + \"-or\"\n",
    "\n",
    "links=[url]\n",
    "reviews = []\n",
    "ratings=[]\n",
    "\n",
    "for i in range(5, 1200, 5):\n",
    "    links.append(splt_url[0]+str(i)+splt_url[1])\n",
    "\n",
    "for link in links:\n",
    "    headers = {\n",
    "    \"user-agent\": \"Mozilla/5.0 (Windows NT 10.0; Win64; x64) AppleWebKit/537.36 (KHTML, like Gecko) Chrome/91.0.4472.124 Safari/537.36\"\n",
    "}\n",
    "    response = requests.get(link, headers = headers)\n",
    "    soup = BeautifulSoup(response.content, 'lxml')\n",
    "    \n",
    "    for body, body2 in zip(soup.find_all('a', {'class': 'fCitC'}), soup.find_all('div', {'class': 'emWez F1'})):\n",
    "        tags = body.find_all('span')\n",
    "        tags2 = re.findall(r'\\d+', str(body2.find('span')))\n",
    "        review = [pt.get_text() for pt in tags][0]\n",
    "        rating = (str(tags2))[2]\n",
    "        reviews.append(review)\n",
    "        ratings.append(rating)"
   ]
  },
  {
   "cell_type": "code",
   "execution_count": null,
   "metadata": {
    "ExecuteTime": {
     "start_time": "2022-01-14T21:16:49.507Z"
    }
   },
   "outputs": [],
   "source": [
    "data = pd.DataFrame()\n",
    "data['Reviews'] = reviews\n",
    "data['Ratings'] = ratings"
   ]
  },
  {
   "cell_type": "code",
   "execution_count": null,
   "metadata": {
    "ExecuteTime": {
     "start_time": "2022-01-14T21:16:49.782Z"
    }
   },
   "outputs": [],
   "source": [
    "data"
   ]
  }
 ],
 "metadata": {
  "kernelspec": {
   "display_name": "Python 3",
   "language": "python",
   "name": "python3"
  },
  "language_info": {
   "codemirror_mode": {
    "name": "ipython",
    "version": 3
   },
   "file_extension": ".py",
   "mimetype": "text/x-python",
   "name": "python",
   "nbconvert_exporter": "python",
   "pygments_lexer": "ipython3",
   "version": "3.8.5"
  },
  "latex_envs": {
   "LaTeX_envs_menu_present": true,
   "autoclose": false,
   "autocomplete": true,
   "bibliofile": "biblio.bib",
   "cite_by": "apalike",
   "current_citInitial": 1,
   "eqLabelWithNumbers": true,
   "eqNumInitial": 1,
   "hotkeys": {
    "equation": "Ctrl-E",
    "itemize": "Ctrl-I"
   },
   "labels_anchors": false,
   "latex_user_defs": false,
   "report_style_numbering": false,
   "user_envs_cfg": false
  },
  "toc": {
   "base_numbering": 1,
   "nav_menu": {},
   "number_sections": true,
   "sideBar": true,
   "skip_h1_title": false,
   "title_cell": "Table of Contents",
   "title_sidebar": "Contents",
   "toc_cell": false,
   "toc_position": {},
   "toc_section_display": true,
   "toc_window_display": false
  },
  "varInspector": {
   "cols": {
    "lenName": 16,
    "lenType": 16,
    "lenVar": 40
   },
   "kernels_config": {
    "python": {
     "delete_cmd_postfix": "",
     "delete_cmd_prefix": "del ",
     "library": "var_list.py",
     "varRefreshCmd": "print(var_dic_list())"
    },
    "r": {
     "delete_cmd_postfix": ") ",
     "delete_cmd_prefix": "rm(",
     "library": "var_list.r",
     "varRefreshCmd": "cat(var_dic_list()) "
    }
   },
   "types_to_exclude": [
    "module",
    "function",
    "builtin_function_or_method",
    "instance",
    "_Feature"
   ],
   "window_display": false
  }
 },
 "nbformat": 4,
 "nbformat_minor": 5
}
